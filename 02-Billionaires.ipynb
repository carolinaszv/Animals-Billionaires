{
 "cells": [
  {
   "cell_type": "markdown",
   "metadata": {},
   "source": [
    "# Homework 5, Part 2: Answer questions with pandas\n",
    "\n",
    "**Use the Excel file to answer the following questions.** This is a little more typical of what your data exploration will look like with pandas."
   ]
  },
  {
   "cell_type": "markdown",
   "metadata": {},
   "source": [
    "## 0) Setup\n",
    "\n",
    "Import pandas **with the correct name** ."
   ]
  },
  {
   "cell_type": "code",
   "execution_count": 1,
   "metadata": {},
   "outputs": [],
   "source": [
    "import pandas as pd"
   ]
  },
  {
   "cell_type": "markdown",
   "metadata": {},
   "source": [
    "## 1) Reading in an Excel file\n",
    "\n",
    "Use pandas to read in the `richpeople.xlsx` Excel file, saving it as a variable with the name we'll always use for a dataframe.\n",
    "\n",
    "> **TIP:** You will use `read_excel` instead of `read_csv`. Trying `read_excel` the first time will probably not work, you'll get an error message. Be sure to read the error carefully: *you probably need to install a new library before it will work, and the error tells you what the library is named*."
   ]
  },
  {
   "cell_type": "code",
   "execution_count": 2,
   "metadata": {},
   "outputs": [
    {
     "data": {
      "text/html": [
       "<div>\n",
       "<style scoped>\n",
       "    .dataframe tbody tr th:only-of-type {\n",
       "        vertical-align: middle;\n",
       "    }\n",
       "\n",
       "    .dataframe tbody tr th {\n",
       "        vertical-align: top;\n",
       "    }\n",
       "\n",
       "    .dataframe thead th {\n",
       "        text-align: right;\n",
       "    }\n",
       "</style>\n",
       "<table border=\"1\" class=\"dataframe\">\n",
       "  <thead>\n",
       "    <tr style=\"text-align: right;\">\n",
       "      <th></th>\n",
       "      <th>year</th>\n",
       "      <th>name</th>\n",
       "      <th>rank</th>\n",
       "      <th>citizenship</th>\n",
       "      <th>countrycode</th>\n",
       "      <th>networthusbillion</th>\n",
       "      <th>selfmade</th>\n",
       "      <th>typeofwealth</th>\n",
       "      <th>gender</th>\n",
       "      <th>age</th>\n",
       "      <th>...</th>\n",
       "      <th>relationshiptocompany</th>\n",
       "      <th>foundingdate</th>\n",
       "      <th>gdpcurrentus</th>\n",
       "      <th>sourceofwealth</th>\n",
       "      <th>notes</th>\n",
       "      <th>notes2</th>\n",
       "      <th>source</th>\n",
       "      <th>source_2</th>\n",
       "      <th>source_3</th>\n",
       "      <th>source_4</th>\n",
       "    </tr>\n",
       "  </thead>\n",
       "  <tbody>\n",
       "    <tr>\n",
       "      <th>0</th>\n",
       "      <td>2014</td>\n",
       "      <td>A. Jerrold Perenchio</td>\n",
       "      <td>663</td>\n",
       "      <td>United States</td>\n",
       "      <td>USA</td>\n",
       "      <td>2.6</td>\n",
       "      <td>self-made</td>\n",
       "      <td>executive</td>\n",
       "      <td>male</td>\n",
       "      <td>83.0</td>\n",
       "      <td>...</td>\n",
       "      <td>former chairman and CEO</td>\n",
       "      <td>1955.0</td>\n",
       "      <td>NaN</td>\n",
       "      <td>television, Univision</td>\n",
       "      <td>represented Marlon Brando and Elizabeth Taylor</td>\n",
       "      <td>NaN</td>\n",
       "      <td>http://en.wikipedia.org/wiki/Jerry_Perenchio</td>\n",
       "      <td>http://www.forbes.com/profile/a-jerrold-perenc...</td>\n",
       "      <td>COLUMN ONE; A Hollywood Player Who Owns the Ga...</td>\n",
       "      <td>NaN</td>\n",
       "    </tr>\n",
       "    <tr>\n",
       "      <th>1</th>\n",
       "      <td>2014</td>\n",
       "      <td>Abdulla Al Futtaim</td>\n",
       "      <td>687</td>\n",
       "      <td>United Arab Emirates</td>\n",
       "      <td>ARE</td>\n",
       "      <td>2.5</td>\n",
       "      <td>inherited</td>\n",
       "      <td>inherited</td>\n",
       "      <td>male</td>\n",
       "      <td>NaN</td>\n",
       "      <td>...</td>\n",
       "      <td>relation</td>\n",
       "      <td>1930.0</td>\n",
       "      <td>NaN</td>\n",
       "      <td>auto dealers, investments</td>\n",
       "      <td>company split between him and cousin in 2000</td>\n",
       "      <td>NaN</td>\n",
       "      <td>http://en.wikipedia.org/wiki/Al-Futtaim_Group</td>\n",
       "      <td>http://www.al-futtaim.ae/content/groupProfile.asp</td>\n",
       "      <td>NaN</td>\n",
       "      <td>NaN</td>\n",
       "    </tr>\n",
       "    <tr>\n",
       "      <th>2</th>\n",
       "      <td>2014</td>\n",
       "      <td>Abdulla bin Ahmad Al Ghurair</td>\n",
       "      <td>305</td>\n",
       "      <td>United Arab Emirates</td>\n",
       "      <td>ARE</td>\n",
       "      <td>4.8</td>\n",
       "      <td>inherited</td>\n",
       "      <td>inherited</td>\n",
       "      <td>male</td>\n",
       "      <td>NaN</td>\n",
       "      <td>...</td>\n",
       "      <td>relation</td>\n",
       "      <td>1960.0</td>\n",
       "      <td>NaN</td>\n",
       "      <td>diversified</td>\n",
       "      <td>inherited from father</td>\n",
       "      <td>NaN</td>\n",
       "      <td>http://en.wikipedia.org/wiki/Al-Ghurair_Group</td>\n",
       "      <td>http://www.alghurair.com/about-us/our-history</td>\n",
       "      <td>NaN</td>\n",
       "      <td>NaN</td>\n",
       "    </tr>\n",
       "    <tr>\n",
       "      <th>3</th>\n",
       "      <td>2014</td>\n",
       "      <td>Abdullah Al Rajhi</td>\n",
       "      <td>731</td>\n",
       "      <td>Saudi Arabia</td>\n",
       "      <td>SAU</td>\n",
       "      <td>2.4</td>\n",
       "      <td>self-made</td>\n",
       "      <td>self-made finance</td>\n",
       "      <td>male</td>\n",
       "      <td>NaN</td>\n",
       "      <td>...</td>\n",
       "      <td>founder</td>\n",
       "      <td>1957.0</td>\n",
       "      <td>NaN</td>\n",
       "      <td>banking</td>\n",
       "      <td>NaN</td>\n",
       "      <td>NaN</td>\n",
       "      <td>http://en.wikipedia.org/wiki/Al-Rajhi_Bank</td>\n",
       "      <td>http://www.alrajhibank.com.sa/ar/investor-rela...</td>\n",
       "      <td>http://www.alrajhibank.com.sa/ar/about-us/page...</td>\n",
       "      <td>NaN</td>\n",
       "    </tr>\n",
       "    <tr>\n",
       "      <th>4</th>\n",
       "      <td>2014</td>\n",
       "      <td>Abdulsamad Rabiu</td>\n",
       "      <td>1372</td>\n",
       "      <td>Nigeria</td>\n",
       "      <td>NGA</td>\n",
       "      <td>1.2</td>\n",
       "      <td>self-made</td>\n",
       "      <td>founder non-finance</td>\n",
       "      <td>male</td>\n",
       "      <td>54.0</td>\n",
       "      <td>...</td>\n",
       "      <td>founder</td>\n",
       "      <td>1988.0</td>\n",
       "      <td>NaN</td>\n",
       "      <td>sugar, flour, cement</td>\n",
       "      <td>NaN</td>\n",
       "      <td>NaN</td>\n",
       "      <td>http://www.forbes.com/profile/abdulsamad-rabiu/</td>\n",
       "      <td>http://www.bloomberg.com/research/stocks/priva...</td>\n",
       "      <td>NaN</td>\n",
       "      <td>NaN</td>\n",
       "    </tr>\n",
       "    <tr>\n",
       "      <th>...</th>\n",
       "      <td>...</td>\n",
       "      <td>...</td>\n",
       "      <td>...</td>\n",
       "      <td>...</td>\n",
       "      <td>...</td>\n",
       "      <td>...</td>\n",
       "      <td>...</td>\n",
       "      <td>...</td>\n",
       "      <td>...</td>\n",
       "      <td>...</td>\n",
       "      <td>...</td>\n",
       "      <td>...</td>\n",
       "      <td>...</td>\n",
       "      <td>...</td>\n",
       "      <td>...</td>\n",
       "      <td>...</td>\n",
       "      <td>...</td>\n",
       "      <td>...</td>\n",
       "      <td>...</td>\n",
       "      <td>...</td>\n",
       "      <td>...</td>\n",
       "    </tr>\n",
       "    <tr>\n",
       "      <th>1648</th>\n",
       "      <td>2014</td>\n",
       "      <td>Zhu Yicai</td>\n",
       "      <td>1154</td>\n",
       "      <td>China</td>\n",
       "      <td>CHN</td>\n",
       "      <td>1.5</td>\n",
       "      <td>self-made</td>\n",
       "      <td>self-made finance</td>\n",
       "      <td>male</td>\n",
       "      <td>49.0</td>\n",
       "      <td>...</td>\n",
       "      <td>founder</td>\n",
       "      <td>1993.0</td>\n",
       "      <td>NaN</td>\n",
       "      <td>diversified</td>\n",
       "      <td>NaN</td>\n",
       "      <td>NaN</td>\n",
       "      <td>http://www.forbes.com/profile/zhu-yicai/</td>\n",
       "      <td>NaN</td>\n",
       "      <td>NaN</td>\n",
       "      <td>NaN</td>\n",
       "    </tr>\n",
       "    <tr>\n",
       "      <th>1649</th>\n",
       "      <td>2014</td>\n",
       "      <td>Ziyad Manasir</td>\n",
       "      <td>609</td>\n",
       "      <td>Russia</td>\n",
       "      <td>RUS</td>\n",
       "      <td>2.8</td>\n",
       "      <td>self-made</td>\n",
       "      <td>privatized and resources</td>\n",
       "      <td>male</td>\n",
       "      <td>48.0</td>\n",
       "      <td>...</td>\n",
       "      <td>founder</td>\n",
       "      <td>1992.0</td>\n",
       "      <td>NaN</td>\n",
       "      <td>construction</td>\n",
       "      <td>close ties with Gazprom</td>\n",
       "      <td>NaN</td>\n",
       "      <td>http://www.forbes.com/profile/ziyad-manasir/</td>\n",
       "      <td>http://www.themoscowtimes.com/business/article...</td>\n",
       "      <td>NaN</td>\n",
       "      <td>NaN</td>\n",
       "    </tr>\n",
       "    <tr>\n",
       "      <th>1650</th>\n",
       "      <td>2014</td>\n",
       "      <td>Ziyaudin Magomedov</td>\n",
       "      <td>1372</td>\n",
       "      <td>Russia</td>\n",
       "      <td>RUS</td>\n",
       "      <td>1.2</td>\n",
       "      <td>self-made</td>\n",
       "      <td>privatized and resources</td>\n",
       "      <td>male</td>\n",
       "      <td>45.0</td>\n",
       "      <td>...</td>\n",
       "      <td>founder</td>\n",
       "      <td>2004.0</td>\n",
       "      <td>NaN</td>\n",
       "      <td>port, gas</td>\n",
       "      <td>NaN</td>\n",
       "      <td>NaN</td>\n",
       "      <td>http://www.summagroup.ru/about/history/en/</td>\n",
       "      <td>http://www.forbes.com/profile/ziyaudin-magomedov/</td>\n",
       "      <td>NaN</td>\n",
       "      <td>NaN</td>\n",
       "    </tr>\n",
       "    <tr>\n",
       "      <th>1651</th>\n",
       "      <td>2014</td>\n",
       "      <td>Zong Qinghou</td>\n",
       "      <td>94</td>\n",
       "      <td>China</td>\n",
       "      <td>CHN</td>\n",
       "      <td>11.6</td>\n",
       "      <td>self-made</td>\n",
       "      <td>founder non-finance</td>\n",
       "      <td>male</td>\n",
       "      <td>68.0</td>\n",
       "      <td>...</td>\n",
       "      <td>founder</td>\n",
       "      <td>1987.0</td>\n",
       "      <td>NaN</td>\n",
       "      <td>beverages</td>\n",
       "      <td>NaN</td>\n",
       "      <td>NaN</td>\n",
       "      <td>http://en.wikipedia.org/wiki/Zong_Qinghou</td>\n",
       "      <td>http://mic.com/articles/39659/zong-qinghou-chi...</td>\n",
       "      <td>NaN</td>\n",
       "      <td>NaN</td>\n",
       "    </tr>\n",
       "    <tr>\n",
       "      <th>1652</th>\n",
       "      <td>2014</td>\n",
       "      <td>Zygmunt Solorz-Zak</td>\n",
       "      <td>446</td>\n",
       "      <td>Poland</td>\n",
       "      <td>POL</td>\n",
       "      <td>3.5</td>\n",
       "      <td>self-made</td>\n",
       "      <td>founder non-finance</td>\n",
       "      <td>male</td>\n",
       "      <td>57.0</td>\n",
       "      <td>...</td>\n",
       "      <td>founder</td>\n",
       "      <td>1992.0</td>\n",
       "      <td>NaN</td>\n",
       "      <td>TV broadcasting</td>\n",
       "      <td>NaN</td>\n",
       "      <td>NaN</td>\n",
       "      <td>http://en.wikipedia.org/wiki/Zygmunt_Solorz-%C...</td>\n",
       "      <td>No Mob Bosses in This Legal Strategy The New Y...</td>\n",
       "      <td>NaN</td>\n",
       "      <td>NaN</td>\n",
       "    </tr>\n",
       "  </tbody>\n",
       "</table>\n",
       "<p>1653 rows × 30 columns</p>\n",
       "</div>"
      ],
      "text/plain": [
       "      year                          name  rank           citizenship  \\\n",
       "0     2014          A. Jerrold Perenchio   663         United States   \n",
       "1     2014            Abdulla Al Futtaim   687  United Arab Emirates   \n",
       "2     2014  Abdulla bin Ahmad Al Ghurair   305  United Arab Emirates   \n",
       "3     2014             Abdullah Al Rajhi   731          Saudi Arabia   \n",
       "4     2014              Abdulsamad Rabiu  1372               Nigeria   \n",
       "...    ...                           ...   ...                   ...   \n",
       "1648  2014                     Zhu Yicai  1154                 China   \n",
       "1649  2014                 Ziyad Manasir   609                Russia   \n",
       "1650  2014            Ziyaudin Magomedov  1372                Russia   \n",
       "1651  2014                  Zong Qinghou    94                 China   \n",
       "1652  2014            Zygmunt Solorz-Zak   446                Poland   \n",
       "\n",
       "     countrycode  networthusbillion   selfmade              typeofwealth  \\\n",
       "0            USA                2.6  self-made                 executive   \n",
       "1            ARE                2.5  inherited                 inherited   \n",
       "2            ARE                4.8  inherited                 inherited   \n",
       "3            SAU                2.4  self-made         self-made finance   \n",
       "4            NGA                1.2  self-made       founder non-finance   \n",
       "...          ...                ...        ...                       ...   \n",
       "1648         CHN                1.5  self-made         self-made finance   \n",
       "1649         RUS                2.8  self-made  privatized and resources   \n",
       "1650         RUS                1.2  self-made  privatized and resources   \n",
       "1651         CHN               11.6  self-made       founder non-finance   \n",
       "1652         POL                3.5  self-made       founder non-finance   \n",
       "\n",
       "     gender   age  ...    relationshiptocompany foundingdate gdpcurrentus  \\\n",
       "0      male  83.0  ...  former chairman and CEO       1955.0          NaN   \n",
       "1      male   NaN  ...                 relation       1930.0          NaN   \n",
       "2      male   NaN  ...                 relation       1960.0          NaN   \n",
       "3      male   NaN  ...                  founder       1957.0          NaN   \n",
       "4      male  54.0  ...                  founder       1988.0          NaN   \n",
       "...     ...   ...  ...                      ...          ...          ...   \n",
       "1648   male  49.0  ...                  founder       1993.0          NaN   \n",
       "1649   male  48.0  ...                  founder       1992.0          NaN   \n",
       "1650   male  45.0  ...                  founder       2004.0          NaN   \n",
       "1651   male  68.0  ...                  founder       1987.0          NaN   \n",
       "1652   male  57.0  ...                  founder       1992.0          NaN   \n",
       "\n",
       "                 sourceofwealth  \\\n",
       "0         television, Univision   \n",
       "1     auto dealers, investments   \n",
       "2                   diversified   \n",
       "3                       banking   \n",
       "4          sugar, flour, cement   \n",
       "...                         ...   \n",
       "1648                diversified   \n",
       "1649               construction   \n",
       "1650                  port, gas   \n",
       "1651                  beverages   \n",
       "1652            TV broadcasting   \n",
       "\n",
       "                                               notes  notes2  \\\n",
       "0     represented Marlon Brando and Elizabeth Taylor     NaN   \n",
       "1       company split between him and cousin in 2000     NaN   \n",
       "2                              inherited from father     NaN   \n",
       "3                                                NaN     NaN   \n",
       "4                                                NaN     NaN   \n",
       "...                                              ...     ...   \n",
       "1648                                             NaN     NaN   \n",
       "1649                         close ties with Gazprom     NaN   \n",
       "1650                                             NaN     NaN   \n",
       "1651                                             NaN     NaN   \n",
       "1652                                             NaN     NaN   \n",
       "\n",
       "                                                 source  \\\n",
       "0          http://en.wikipedia.org/wiki/Jerry_Perenchio   \n",
       "1         http://en.wikipedia.org/wiki/Al-Futtaim_Group   \n",
       "2         http://en.wikipedia.org/wiki/Al-Ghurair_Group   \n",
       "3            http://en.wikipedia.org/wiki/Al-Rajhi_Bank   \n",
       "4       http://www.forbes.com/profile/abdulsamad-rabiu/   \n",
       "...                                                 ...   \n",
       "1648           http://www.forbes.com/profile/zhu-yicai/   \n",
       "1649       http://www.forbes.com/profile/ziyad-manasir/   \n",
       "1650         http://www.summagroup.ru/about/history/en/   \n",
       "1651          http://en.wikipedia.org/wiki/Zong_Qinghou   \n",
       "1652  http://en.wikipedia.org/wiki/Zygmunt_Solorz-%C...   \n",
       "\n",
       "                                               source_2  \\\n",
       "0     http://www.forbes.com/profile/a-jerrold-perenc...   \n",
       "1     http://www.al-futtaim.ae/content/groupProfile.asp   \n",
       "2         http://www.alghurair.com/about-us/our-history   \n",
       "3     http://www.alrajhibank.com.sa/ar/investor-rela...   \n",
       "4     http://www.bloomberg.com/research/stocks/priva...   \n",
       "...                                                 ...   \n",
       "1648                                                NaN   \n",
       "1649  http://www.themoscowtimes.com/business/article...   \n",
       "1650  http://www.forbes.com/profile/ziyaudin-magomedov/   \n",
       "1651  http://mic.com/articles/39659/zong-qinghou-chi...   \n",
       "1652  No Mob Bosses in This Legal Strategy The New Y...   \n",
       "\n",
       "                                               source_3 source_4  \n",
       "0     COLUMN ONE; A Hollywood Player Who Owns the Ga...      NaN  \n",
       "1                                                   NaN      NaN  \n",
       "2                                                   NaN      NaN  \n",
       "3     http://www.alrajhibank.com.sa/ar/about-us/page...      NaN  \n",
       "4                                                   NaN      NaN  \n",
       "...                                                 ...      ...  \n",
       "1648                                                NaN      NaN  \n",
       "1649                                                NaN      NaN  \n",
       "1650                                                NaN      NaN  \n",
       "1651                                                NaN      NaN  \n",
       "1652                                                NaN      NaN  \n",
       "\n",
       "[1653 rows x 30 columns]"
      ]
     },
     "execution_count": 2,
     "metadata": {},
     "output_type": "execute_result"
    }
   ],
   "source": [
    "df = pd.read_excel('richpeople.xlsx')\n",
    "df"
   ]
  },
  {
   "cell_type": "markdown",
   "metadata": {},
   "source": [
    "## 2) Checking your data\n",
    "\n",
    "Display the number of rows and columns in your data. Also display the names and data types of each column."
   ]
  },
  {
   "cell_type": "code",
   "execution_count": 3,
   "metadata": {},
   "outputs": [
    {
     "data": {
      "text/plain": [
       "(1653, 30)"
      ]
     },
     "execution_count": 3,
     "metadata": {},
     "output_type": "execute_result"
    }
   ],
   "source": [
    "df.shape"
   ]
  },
  {
   "cell_type": "code",
   "execution_count": 4,
   "metadata": {},
   "outputs": [
    {
     "data": {
      "text/plain": [
       "year                         int64\n",
       "name                        object\n",
       "rank                         int64\n",
       "citizenship                 object\n",
       "countrycode                 object\n",
       "networthusbillion          float64\n",
       "selfmade                    object\n",
       "typeofwealth                object\n",
       "gender                      object\n",
       "age                        float64\n",
       "industry                    object\n",
       "IndustryAggregates          object\n",
       "region                      object\n",
       "north                        int64\n",
       "politicalconnection        float64\n",
       "founder                      int64\n",
       "generationofinheritance     object\n",
       "sector                      object\n",
       "company                     object\n",
       "companytype                 object\n",
       "relationshiptocompany       object\n",
       "foundingdate               float64\n",
       "gdpcurrentus               float64\n",
       "sourceofwealth              object\n",
       "notes                       object\n",
       "notes2                      object\n",
       "source                      object\n",
       "source_2                    object\n",
       "source_3                    object\n",
       "source_4                    object\n",
       "dtype: object"
      ]
     },
     "execution_count": 4,
     "metadata": {},
     "output_type": "execute_result"
    }
   ],
   "source": [
    "df.dtypes"
   ]
  },
  {
   "cell_type": "code",
   "execution_count": null,
   "metadata": {},
   "outputs": [],
   "source": []
  },
  {
   "cell_type": "markdown",
   "metadata": {},
   "source": [
    "## 3) Who are the top 10 richest billionaires? Use the `networthusbillion` column."
   ]
  },
  {
   "cell_type": "code",
   "execution_count": 5,
   "metadata": {},
   "outputs": [
    {
     "data": {
      "text/plain": [
       "184           Bill Gates\n",
       "226     Carlos Slim Helu\n",
       "79        Amancio Ortega\n",
       "1562      Warren Buffett\n",
       "862        Larry Ellison\n",
       "339           David Koch\n",
       "247         Charles Koch\n",
       "1364     Sheldon Adelson\n",
       "280       Christy Walton\n",
       "724           Jim Walton\n",
       "Name: name, dtype: object"
      ]
     },
     "execution_count": 5,
     "metadata": {},
     "output_type": "execute_result"
    }
   ],
   "source": [
    "df.sort_values(by='networthusbillion', ascending=False).name.head(10)"
   ]
  },
  {
   "cell_type": "markdown",
   "metadata": {},
   "source": [
    "## 4) How many male billionaires are there compared to the number of female billionares? What percent is that? Do they have a different average wealth?\n",
    "\n",
    "> **TIP:** The last part uses `groupby`, but the count/percent part does not.\n",
    "> **TIP:** When I say \"average,\" you can pick what kind of average you use."
   ]
  },
  {
   "cell_type": "code",
   "execution_count": 6,
   "metadata": {},
   "outputs": [
    {
     "data": {
      "text/plain": [
       "gender\n",
       "male      1473\n",
       "female     180\n",
       "dtype: int64"
      ]
     },
     "execution_count": 6,
     "metadata": {},
     "output_type": "execute_result"
    }
   ],
   "source": [
    "df.value_counts('gender')#.plot(kind='barh',title='Male vs Female Billionaires')"
   ]
  },
  {
   "cell_type": "code",
   "execution_count": 7,
   "metadata": {},
   "outputs": [
    {
     "data": {
      "text/plain": [
       "gender\n",
       "male      89.1\n",
       "female    10.9\n",
       "dtype: float64"
      ]
     },
     "execution_count": 7,
     "metadata": {},
     "output_type": "execute_result"
    }
   ],
   "source": [
    "round(df.value_counts('gender')/len(df)*100,1)"
   ]
  },
  {
   "cell_type": "code",
   "execution_count": 8,
   "metadata": {},
   "outputs": [
    {
     "data": {
      "text/plain": [
       "gender\n",
       "female    2.3\n",
       "male      2.1\n",
       "Name: networthusbillion, dtype: float64"
      ]
     },
     "execution_count": 8,
     "metadata": {},
     "output_type": "execute_result"
    }
   ],
   "source": [
    "df.groupby('gender').networthusbillion.median()"
   ]
  },
  {
   "cell_type": "markdown",
   "metadata": {},
   "source": [
    "## 5) What is the most common source/type of wealth? Is it different between males and females?\n",
    "\n",
    "> **TIP:** You know how to `groupby` and you know how to count how many times a value is in a column. Can you put them together???\n",
    "> **TIP:** Use percentages for this, it makes it a lot more readable."
   ]
  },
  {
   "cell_type": "code",
   "execution_count": 9,
   "metadata": {},
   "outputs": [
    {
     "data": {
      "text/plain": [
       "typeofwealth\n",
       "inherited    506\n",
       "Name: name, dtype: int64"
      ]
     },
     "execution_count": 9,
     "metadata": {},
     "output_type": "execute_result"
    }
   ],
   "source": [
    "df.groupby('typeofwealth').name.count().sort_values(ascending=False)[:1]"
   ]
  },
  {
   "cell_type": "code",
   "execution_count": 10,
   "metadata": {},
   "outputs": [
    {
     "data": {
      "text/plain": [
       "gender  typeofwealth            \n",
       "female  executive                    0.36\n",
       "        founder non-finance          1.27\n",
       "        inherited                    8.59\n",
       "        privatized and resources     0.30\n",
       "        self-made finance            0.36\n",
       "male    executive                    8.23\n",
       "        founder non-finance         26.98\n",
       "        inherited                   22.02\n",
       "        privatized and resources    11.31\n",
       "        self-made finance           20.45\n",
       "Name: name, dtype: float64"
      ]
     },
     "execution_count": 10,
     "metadata": {},
     "output_type": "execute_result"
    }
   ],
   "source": [
    "#df_fem = df[df['gender'] == 'female']\n",
    "round((df.groupby(['gender','typeofwealth']).name.count()/len(df))*100,2)"
   ]
  },
  {
   "cell_type": "markdown",
   "metadata": {},
   "source": [
    "## 6) What companies have the most billionaires? Graph the top 5 as a horizontal bar graph.\n",
    "\n",
    "> **TIP:** First find the answer to the question, then just try to throw `.plot()` on the end\n",
    ">\n",
    "> **TIP:** You can use `.head()` on *anything*, not just your basic `df`\n",
    ">\n",
    "> **TIP:** You might feel like you should use `groupby`, but don't! There's an easier way to count.\n",
    ">\n",
    "> **TIP:** Make the largest bar be at the top of the graph\n",
    ">\n",
    "> **TIP:** If your chart seems... weird, think about where in the process you're sorting vs using `head`"
   ]
  },
  {
   "cell_type": "code",
   "execution_count": 11,
   "metadata": {},
   "outputs": [
    {
     "data": {
      "text/plain": [
       "<AxesSubplot:ylabel='company'>"
      ]
     },
     "execution_count": 11,
     "metadata": {},
     "output_type": "execute_result"
    },
    {
     "data": {
      "image/png": "[encoded data removed]",
      "text/plain": [
       "<Figure size 432x288 with 1 Axes>"
      ]
     },
     "metadata": {
      "needs_background": "light"
     },
     "output_type": "display_data"
    }
   ],
   "source": [
    "df.value_counts('company')[:5].sort_values(ascending=True).plot(kind='barh')"
   ]
  },
  {
   "cell_type": "markdown",
   "metadata": {},
   "source": [
    "## 7) How much money do these billionaires have in total?"
   ]
  },
  {
   "cell_type": "code",
   "execution_count": 12,
   "metadata": {},
   "outputs": [
    {
     "data": {
      "text/plain": [
       "1653"
      ]
     },
     "execution_count": 12,
     "metadata": {},
     "output_type": "execute_result"
    }
   ],
   "source": [
    "df.value_counts('networthusbillion').sum()"
   ]
  },
  {
   "cell_type": "markdown",
   "metadata": {},
   "source": [
    "## 8) What are the top 10 countries with the most money held by billionaires?\n",
    "\n",
    "I am **not** asking which country has the most billionaires - this is **total amount of money per country.**\n",
    "\n",
    "> **TIP:** Think about it in steps - \"I want them organized by country,\" \"I want their net worth,\" \"I want to add it all up,\" and \"I want 10 of them.\" Just chain it all together."
   ]
  },
  {
   "cell_type": "code",
   "execution_count": 13,
   "metadata": {},
   "outputs": [
    {
     "data": {
      "text/plain": [
       "citizenship\n",
       "United States     2322.4\n",
       "Russia             422.5\n",
       "Germany            401.4\n",
       "China              375.8\n",
       "France             235.3\n",
       "Hong Kong          213.7\n",
       "Brazil             192.2\n",
       "India              191.9\n",
       "Italy              158.1\n",
       "United Kingdom     152.0\n",
       "Name: networthusbillion, dtype: float64"
      ]
     },
     "execution_count": 13,
     "metadata": {},
     "output_type": "execute_result"
    }
   ],
   "source": [
    "df.groupby(by='citizenship').networthusbillion.sum().sort_values(ascending=False)[:10]"
   ]
  },
  {
   "cell_type": "markdown",
   "metadata": {},
   "source": [
    "## 9) How old is an average billionaire? How old are self-made billionaires  vs. non self-made billionaires? "
   ]
  },
  {
   "cell_type": "code",
   "execution_count": 19,
   "metadata": {},
   "outputs": [
    {
     "data": {
      "text/plain": [
       "63"
      ]
     },
     "execution_count": 19,
     "metadata": {},
     "output_type": "execute_result"
    }
   ],
   "source": [
    "round(df.age.mean())"
   ]
  },
  {
   "cell_type": "code",
   "execution_count": 20,
   "metadata": {},
   "outputs": [
    {
     "data": {
      "text/plain": [
       "selfmade\n",
       "inherited    65.0\n",
       "self-made    63.0\n",
       "Name: age, dtype: float64"
      ]
     },
     "execution_count": 20,
     "metadata": {},
     "output_type": "execute_result"
    }
   ],
   "source": [
    "round(df.groupby(by='selfmade').age.mean())"
   ]
  },
  {
   "cell_type": "markdown",
   "metadata": {},
   "source": [
    "## 10) Who are the youngest billionaires? Who are the oldest? Make a graph of the distribution of ages.\n",
    "\n",
    "> **TIP:** You use `.plot()` to graph values in a column independently, but `.hist()` to draw a [histogram](https://www.mathsisfun.com/data/histograms.html) of the distribution of their values"
   ]
  },
  {
   "cell_type": "code",
   "execution_count": 52,
   "metadata": {},
   "outputs": [
    {
     "data": {
      "text/plain": [
       "1172                   Perenna Kei\n",
       "397               Dustin Moskovitz\n",
       "1004               Mark Zuckerberg\n",
       "127            Anton Kathrein, Jr.\n",
       "394                   Drew Houston\n",
       "28      Albert von Thurn und Taxis\n",
       "406                Eduardo Saverin\n",
       "1340                  Scott Duncan\n",
       "1607                   Yang Huiyan\n",
       "991        Marie Besnier Beauvalot\n",
       "Name: name, dtype: object"
      ]
     },
     "execution_count": 52,
     "metadata": {},
     "output_type": "execute_result"
    }
   ],
   "source": [
    "df.sort_values(by='age', ascending=True).name[:10]"
   ]
  },
  {
   "cell_type": "code",
   "execution_count": 53,
   "metadata": {},
   "outputs": [
    {
     "data": {
      "text/plain": [
       "343       David Rockefeller, Sr.\n",
       "816                Karl Wlaschek\n",
       "836               Kirk Kerkorian\n",
       "588                Henry Hillman\n",
       "435           Erika Pohl-Stroher\n",
       "1428           Sulaiman Al Rajhi\n",
       "122            Anne Cox Chambers\n",
       "815                Karl Albrecht\n",
       "77      Aloysio de Andrade Faria\n",
       "1560              Wang Yung-Tsai\n",
       "Name: name, dtype: object"
      ]
     },
     "execution_count": 53,
     "metadata": {},
     "output_type": "execute_result"
    }
   ],
   "source": [
    "df.sort_values(by='age', ascending=False).name[:10]"
   ]
  },
  {
   "cell_type": "code",
   "execution_count": 56,
   "metadata": {},
   "outputs": [
    {
     "data": {
      "text/plain": [
       "<AxesSubplot:>"
      ]
     },
     "execution_count": 56,
     "metadata": {},
     "output_type": "execute_result"
    },
    {
     "data": {
      "image/png": "[encoded data removed]",
      "text/plain": [
       "<Figure size 432x288 with 1 Axes>"
      ]
     },
     "metadata": {
      "needs_background": "light"
     },
     "output_type": "display_data"
    }
   ],
   "source": [
    "df.age.hist()"
   ]
  },
  {
   "cell_type": "markdown",
   "metadata": {},
   "source": [
    "## 11) Make a scatterplot of net worth compared to age"
   ]
  },
  {
   "cell_type": "code",
   "execution_count": 74,
   "metadata": {},
   "outputs": [
    {
     "data": {
      "text/plain": [
       "<AxesSubplot:xlabel='age', ylabel='networthusbillion'>"
      ]
     },
     "execution_count": 74,
     "metadata": {},
     "output_type": "execute_result"
    },
    {
     "data": {
      "image/png": "[encoded data removed]",
      "text/plain": [
       "<Figure size 432x288 with 1 Axes>"
      ]
     },
     "metadata": {
      "needs_background": "light"
     },
     "output_type": "display_data"
    }
   ],
   "source": [
    "df.plot.scatter(x='age', y='networthusbillion')\n",
    "#can add c=for color"
   ]
  },
  {
   "cell_type": "markdown",
   "metadata": {},
   "source": [
    "## 13) Make a bar graph of the wealth of the top 10 richest billionaires\n",
    "\n",
    "> **TIP:** When you make your plot, you'll need to set the `x` and `y` or else your chart will look _crazy_\n",
    ">\n",
    "> **TIP:** x and y might be the opposite of what you expect them to be"
   ]
  },
  {
   "cell_type": "code",
   "execution_count": 145,
   "metadata": {},
   "outputs": [
    {
     "data": {
      "text/plain": [
       "<AxesSubplot:title={'center':'Wealth of top 10 richest billionaires'}, ylabel='name'>"
      ]
     },
     "execution_count": 145,
     "metadata": {},
     "output_type": "execute_result"
    },
    {
     "data": {
      "image/png": "[encoded data removed]",
      "text/plain": [
       "<Figure size 432x288 with 1 Axes>"
      ]
     },
     "metadata": {
      "needs_background": "light"
     },
     "output_type": "display_data"
    }
   ],
   "source": [
    "df.groupby(by='name').networthusbillion.max().sort_values(ascending=False)[:10].sort_values().plot(kind='barh',title='Wealth of top 10 richest billionaires', x='networthusbillion',y='name')\n",
    "#df.networthusbillion.sort_values(ascending=False)[:10].sort_values().plot(kind='barh', x='networthusbillion',y='name')\n",
    "#why does the above not work?"
   ]
  },
  {
   "cell_type": "code",
   "execution_count": null,
   "metadata": {},
   "outputs": [],
   "source": []
  }
 ],
 "metadata": {
  "kernelspec": {
   "display_name": "Python 3 (ipykernel)",
   "language": "python",
   "name": "python3"
  },
  "language_info": {
   "codemirror_mode": {
    "name": "ipython",
    "version": 3
   },
   "file_extension": ".py",
   "mimetype": "text/x-python",
   "name": "python",
   "nbconvert_exporter": "python",
   "pygments_lexer": "ipython3",
   "version": "3.10.3"
  }
 },
 "nbformat": 4,
 "nbformat_minor": 2
}
